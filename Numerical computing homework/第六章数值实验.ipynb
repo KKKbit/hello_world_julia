{
 "cells": [
  {
   "cell_type": "markdown",
   "metadata": {},
   "source": [
    "## 1. erf 没找到对应函数，而且可能原理也不一样\n",
    "## 所以还是选做第二题\n",
    "## 2.炼钢炉出钢时xxxxx,钢包的容积和相应的使用次数的数据列表如xxxx,选用双曲线$\\frac{1}{y}=a+b\\frac{1}{x}$对双曲线进行拟合，用最小二乘法求出拟合函数，作出拟合曲线图。"
   ]
  },
  {
   "cell_type": "markdown",
   "metadata": {},
   "source": [
    "### 解：正则方程组为\n",
    "### $$\\begin{bmatrix}n & S_{\\frac{1}{x}}\\\\S_{\\frac{1}{x}}&S_{\\frac{1}{x^2}}\\end{bmatrix}\\begin{bmatrix}a\\\\b\\end{bmatrix}=\\begin{bmatrix}S_{\\frac{1}{y}}\\\\S_{\\frac{1}{xy}}\\end{bmatrix}$$\n",
    "### 其中 n 为数据点数量，$S_{\\frac{1}{x}}=\\sum\\frac{1}{x_i}$,$S_{\\frac{1}{x^2}}=\\sum\\frac{1}{x^2_i}$,$S_{\\frac{1}{y}}=\\sum\\frac{1}{y_i}$,$S_{\\frac{1}{xy}}=\\sum\\frac{1}{x_iy_i}$."
   ]
  },
  {
   "cell_type": "code",
   "execution_count": 1,
   "metadata": {},
   "outputs": [
    {
     "data": {
      "text/plain": [
       "14-element Array{Float64,1}:\n",
       " 106.42\n",
       " 108.26\n",
       " 109.58\n",
       " 109.5 \n",
       " 109.86\n",
       " 110.0 \n",
       " 109.93\n",
       " 110.59\n",
       " 110.6 \n",
       " 110.72\n",
       " 110.9 \n",
       " 110.76\n",
       " 111.1 \n",
       " 111.3 "
      ]
     },
     "execution_count": 1,
     "metadata": {},
     "output_type": "execute_result"
    }
   ],
   "source": [
    "using Plots\n",
    "\n",
    "x=[2,3,5,6,7,9,10,11,12,14,16,17,19,20]\n",
    "y=[106.42,108.26,109.58,109.50,109.86,110.00,109.93,110.59,110.60,110.72,110.90,110.76,111.10,111.30]"
   ]
  },
  {
   "cell_type": "code",
   "execution_count": 2,
   "metadata": {},
   "outputs": [
    {
     "data": {
      "text/plain": [
       "0.01858297976962126"
      ]
     },
     "execution_count": 2,
     "metadata": {},
     "output_type": "execute_result"
    }
   ],
   "source": [
    "#为减少打字，用Sx 代替 S_{1/x}\n",
    "x_inv=1 ./x\n",
    "y_inv=1 ./y\n",
    "n = length(x_inv)\n",
    "Sx = sum(x_inv)\n",
    "Sxx = sum(x_inv.^2)\n",
    "Sy = sum(y_inv)\n",
    "Sxy = sum(x_inv.*y_inv)"
   ]
  },
  {
   "cell_type": "markdown",
   "metadata": {},
   "source": [
    "## 解得"
   ]
  },
  {
   "cell_type": "code",
   "execution_count": 3,
   "metadata": {},
   "outputs": [
    {
     "name": "stdout",
     "output_type": "stream",
     "text": [
      "a: 0.008973276262446152 b: 0.0008416900197048133\n"
     ]
    }
   ],
   "source": [
    "a,b=inv([n Sx;Sx Sxx])*[Sy; Sxy]\n",
    "println(\"a: \",a,\" b: \",b)"
   ]
  },
  {
   "cell_type": "markdown",
   "metadata": {},
   "source": [
    "### 求解拟合值并画图"
   ]
  },
  {
   "cell_type": "code",
   "execution_count": 4,
   "metadata": {},
   "outputs": [
    {
     "data": {
      "text/plain": [
       "f (generic function with 1 method)"
      ]
     },
     "execution_count": 4,
     "metadata": {},
     "output_type": "execute_result"
    }
   ],
   "source": [
    "f(x,a,b)=a+b*x"
   ]
  },
  {
   "cell_type": "code",
   "execution_count": null,
   "metadata": {},
   "outputs": [],
   "source": [
    "y_inv_interp=f.(x_inv,a,b)\n",
    "plot(x,1 ./y_inv_interp,label=\"Interp y\",linestyle=(:dash),legendfontsize =(10),markershape=:circle,legend=(:bottomright))\n",
    "plot!(x,y,label=\"y\",legendfontsize =(10),markershape=:star5,linestyle=(:solid))"
   ]
  },
  {
   "cell_type": "code",
   "execution_count": null,
   "metadata": {},
   "outputs": [],
   "source": [
    "plot(x,y_inv_interp,label=\"Interp 1/y\",linestyle=(:dash),legendfontsize =(10),markershape=:circle,legend=(:topright))\n",
    "plot!(x,y_inv,label=\"1/y\",legendfontsize =(10),markershape=:star5,linestyle=(:solid))"
   ]
  }
 ],
 "metadata": {
  "kernelspec": {
   "display_name": "Julia 1.1.1",
   "language": "julia",
   "name": "julia-1.1"
  },
  "language_info": {
   "file_extension": ".jl",
   "mimetype": "application/julia",
   "name": "julia",
   "version": "1.1.1"
  }
 },
 "nbformat": 4,
 "nbformat_minor": 2
}
