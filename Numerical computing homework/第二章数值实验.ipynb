{
 "cells": [
  {
   "cell_type": "markdown",
   "metadata": {},
   "source": [
    "## 1. 利用MATLAB 软件编程实现追赶法求解三对角矩阵的算法，并考虑梯形电阻电路问题（图略），已知电路电流${i_1,i_2,\\cdots,i_8}$满足下列线性方程组\n",
    "$$\\begin{matrix}\n",
    " &2i_1  &-2i_2 &  & & & & &  =V/R\\\\\n",
    " &-2i_1 + &5i_2 &-2i_3& & & & & =0\\\\\n",
    " &-2i_2+ &5i_3 &-2i_4& & & & &=0\\\\\n",
    " & &-2i_3+ &5i_4 &-2i_5& & & &=0\\\\\n",
    " & & &-2i_4 &+5i_5 &-2i_6& & &=0\\\\\n",
    " & & & &-2i_5 &+5i_6 &-2i_7& &=0\\\\\n",
    " & & & & &-2i_6 &+5i_7 &-2i_8&=0\\\\\n",
    " & & & & & &-2i_7 &+5i_8&=0\\\\\n",
    "\\end{matrix}\n",
    "$$\n",
    "\n",
    "## 设V=220V,R=27$\\Omega$，求解方程"
   ]
  },
  {
   "cell_type": "markdown",
   "metadata": {},
   "source": [
    "## 解：三对角矩阵使用追赶法,进行LU分解，再求解方程"
   ]
  },
  {
   "cell_type": "markdown",
   "metadata": {},
   "source": [
    "### Code"
   ]
  },
  {
   "cell_type": "code",
   "execution_count": 1,
   "metadata": {},
   "outputs": [
    {
     "data": {
      "text/plain": [
       "8×8 Tridiagonal{Int64,Array{Int64,1}}:\n",
       "  2  -2   ⋅   ⋅   ⋅   ⋅   ⋅   ⋅\n",
       " -2   5  -2   ⋅   ⋅   ⋅   ⋅   ⋅\n",
       "  ⋅  -2   5  -2   ⋅   ⋅   ⋅   ⋅\n",
       "  ⋅   ⋅  -2   5  -2   ⋅   ⋅   ⋅\n",
       "  ⋅   ⋅   ⋅  -2   5  -2   ⋅   ⋅\n",
       "  ⋅   ⋅   ⋅   ⋅  -2   5  -2   ⋅\n",
       "  ⋅   ⋅   ⋅   ⋅   ⋅  -2   5  -2\n",
       "  ⋅   ⋅   ⋅   ⋅   ⋅   ⋅  -2   5"
      ]
     },
     "execution_count": 1,
     "metadata": {},
     "output_type": "execute_result"
    }
   ],
   "source": [
    "using LinearAlgebra\n",
    "V=220\n",
    "Ω=27\n",
    "A=Tridiagonal([-2,-2,-2,-2,-2,-2,-2], [2,5,5,5,5,5,5,5],[-2,-2,-2,-2,-2,-2,-2])\n",
    "B=[V/Ω 0 0 0 0 0 0 0]'\n",
    "A"
   ]
  },
  {
   "cell_type": "code",
   "execution_count": 2,
   "metadata": {},
   "outputs": [
    {
     "data": {
      "text/plain": [
       "MyTriDiagDecomp (generic function with 1 method)"
      ]
     },
     "execution_count": 2,
     "metadata": {},
     "output_type": "execute_result"
    }
   ],
   "source": [
    "function MyTriDiagDecomp(A::Tridiagonal,d)\n",
    "    a=diag(A,-1)*1.0#Otherwise default type is int\n",
    "    b=diag(A,0)*1.0\n",
    "    c=diag(A,1)*1.0\n",
    "    n,_=size(A)\n",
    "    #Decompose A, A=LU\n",
    "    L=Matrix{Float64}(I,size(A))\n",
    "    U=diagm(1 => c,0=>b*0)\n",
    "    U[1,1]=b[1]\n",
    "    for i=2:n\n",
    "        L[i,i-1]=a[i-1]/U[i-1,i-1]\n",
    "        U[i,i]=b[i]-L[i,i-1]*c[i-1]\n",
    "    end\n",
    "    #Solve Ly=d\n",
    "    y=copy(d)\n",
    "    for k=2:n\n",
    "        y[k]=d[k]-L[k,k-1]*y[k-1]\n",
    "    end\n",
    "    #Solve Lx=y\n",
    "    x=copy(y)\n",
    "    x[n]=y[n]/U[n,n]\n",
    "    for k=n-1:-1:1\n",
    "        x[k]=(y[k]-c[k]*x[k+1])/U[k,k]\n",
    "    end\n",
    "    \n",
    "    return L,U,x\n",
    "end"
   ]
  },
  {
   "cell_type": "code",
   "execution_count": 3,
   "metadata": {},
   "outputs": [
    {
     "name": "stdout",
     "output_type": "stream",
     "text": [
      "  0.551478 seconds (1.20 M allocations: 60.765 MiB, 5.30% gc time)\n"
     ]
    },
    {
     "data": {
      "text/plain": [
       "8×1 Array{Float64,2}:\n",
       " 8.147775166909105  \n",
       " 4.07370109283503   \n",
       " 2.0364775651784712 \n",
       " 1.0174928201111484 \n",
       " 0.5072544850993995 \n",
       " 0.25064339263735036\n",
       " 0.11935399649397638\n",
       " 0.04774159859759055"
      ]
     },
     "execution_count": 3,
     "metadata": {},
     "output_type": "execute_result"
    }
   ],
   "source": [
    "#求解\n",
    "@time L,U,x=MyTriDiagDecomp(A,B);\n",
    "x"
   ]
  },
  {
   "cell_type": "code",
   "execution_count": 4,
   "metadata": {},
   "outputs": [
    {
     "data": {
      "text/plain": [
       "8×1 Array{Float64,2}:\n",
       "  8.148148148148149     \n",
       " -8.881784197001252e-16 \n",
       " -1.3322676295501878e-15\n",
       "  6.661338147750939e-16 \n",
       "  0.0                   \n",
       "  0.0                   \n",
       "  6.938893903907228e-17 \n",
       "  0.0                   "
      ]
     },
     "execution_count": 4,
     "metadata": {},
     "output_type": "execute_result"
    }
   ],
   "source": [
    "#验算，结果正确\n",
    "A*x"
   ]
  },
  {
   "cell_type": "markdown",
   "metadata": {},
   "source": [
    "### 解得 $$\\begin{bmatrix}\n",
    "i_1 \\\\\n",
    "i_2\\\\\n",
    "i_3\\\\\n",
    "i_4\\\\\n",
    "i_5\\\\\n",
    "i_6\\\\\n",
    "i_7\\\\\n",
    "i_8\\\\\n",
    "\\end{bmatrix}=\\begin{bmatrix}\n",
    " 8.147775166909105\\\\  \n",
    " 4.07370109283503\\\\   \n",
    " 2.0364775651784712\\\\ \n",
    " 1.0174928201111484 \\\\\n",
    " 0.5072544850993995 \\\\\n",
    " 0.25064339263735036\\\\\n",
    " 0.11935399649397638\\\\\n",
    " 0.04774159859759055\\\\\n",
    "\\end{bmatrix}\n",
    "$$"
   ]
  },
  {
   "cell_type": "code",
   "execution_count": 5,
   "metadata": {},
   "outputs": [
    {
     "ename": "LoadError",
     "evalue": "syntax: invalid identifier name \"?\"",
     "output_type": "error",
     "traceback": [
      "syntax: invalid identifier name \"?\"",
      ""
     ]
    }
   ],
   "source": [
    "#Tips\n",
    "?diagm\n",
    "?Tridiagonal"
   ]
  },
  {
   "cell_type": "markdown",
   "metadata": {},
   "source": [
    "### 已知Wilson矩阵 $$A=\\begin{bmatrix}\n",
    "10 & 7&8&7\\\\\n",
    "7 & 5&6&5\\\\\n",
    "8 & 6&10&9\\\\\n",
    "7 & 5&9&10\n",
    "\\end{bmatrix}\n",
    "$$\n",
    "### 右端项 $b=\\begin{bmatrix} 32 &23& 33& 31\\end{bmatrix}^T$ , 则有精确解$x=\\begin{bmatrix}1 &1& 1&\\end{bmatrix}^T$,\n",
    "### 用MATLAB(这里用Julia)中库函数\n",
    "\n",
    "#### (1)求det(A)，cond(A),以及A的所有特征值（Julia中基本同名）\n",
    "#### (2)令$$A+δA=\\begin{bmatrix}\n",
    "10 & 7.2&8.1&6.9\\\\\n",
    "7.08 & 5.07&6.02&5\\\\\n",
    "8.2 & 5.89&9.96&9.01\\\\\n",
    "6.98 & 5.04&8.97&9.98\n",
    "\\end{bmatrix}$$,\n",
    "#### 解扰动方程(A+δA)(x+δx)=b,并求出向量$δx和||δx||_2$。从理论结果式\n",
    "$$\\frac{||δx||}{||x||}\\leq \\frac{cond(A)\\frac{||δA||_2}{||A||}}{1-cond(A)\\frac{||δA||}{||A||}}$$\n",
    "#### 与实际计算结果两方面分析方程组$Ax=b$的解的相对误差$\\frac{||δx||_2}{||x||_2}$ 与A的相对误差$\\frac{||δA||_2}{||A||_2}$ 的关系。\n",
    "#### (3)利用函数rand(n) 重新产生扰动矩阵，使其各元素绝对值不超过$\\frac{1}{2}\\times 10^{-4}$，重复(2)\n",
    "##### (注，（2）中理论式只在||δA||||δA||<1 时成立，否则少个负号，应用时我们在右边加了绝对值)"
   ]
  },
  {
   "cell_type": "markdown",
   "metadata": {},
   "source": [
    "### 解:(1)"
   ]
  },
  {
   "cell_type": "code",
   "execution_count": 6,
   "metadata": {},
   "outputs": [
    {
     "data": {
      "text/plain": [
       "4×4 Array{Float64,2}:\n",
       " 10.0  7.0   8.0   7.0\n",
       "  7.0  5.0   6.0   5.0\n",
       "  8.0  6.0  10.0   9.0\n",
       "  7.0  5.0   9.0  10.0"
      ]
     },
     "execution_count": 6,
     "metadata": {},
     "output_type": "execute_result"
    }
   ],
   "source": [
    "A=[10 7 8 7;7 5 6 5;8 6 10 9;7 5 9 10]*1.0\n",
    "A"
   ]
  },
  {
   "cell_type": "code",
   "execution_count": 7,
   "metadata": {},
   "outputs": [
    {
     "data": {
      "text/plain": [
       "0.9999999999999869"
      ]
     },
     "execution_count": 7,
     "metadata": {},
     "output_type": "execute_result"
    }
   ],
   "source": [
    "det(A)"
   ]
  },
  {
   "cell_type": "code",
   "execution_count": 8,
   "metadata": {},
   "outputs": [
    {
     "data": {
      "text/plain": [
       "2984.0927016757555"
      ]
     },
     "execution_count": 8,
     "metadata": {},
     "output_type": "execute_result"
    }
   ],
   "source": [
    "cond(A,2)"
   ]
  },
  {
   "cell_type": "markdown",
   "metadata": {},
   "source": [
    "### 所有特征值"
   ]
  },
  {
   "cell_type": "code",
   "execution_count": 9,
   "metadata": {},
   "outputs": [
    {
     "data": {
      "text/plain": [
       "4-element Array{Float64,1}:\n",
       "  0.01015004839789311\n",
       "  0.843107149855033  \n",
       "  3.8580574559449485 \n",
       " 30.288685345802122  "
      ]
     },
     "execution_count": 9,
     "metadata": {},
     "output_type": "execute_result"
    }
   ],
   "source": [
    "#?eigvals\n",
    "#A的特征值\n",
    "eigvals(A)"
   ]
  },
  {
   "cell_type": "markdown",
   "metadata": {},
   "source": [
    "### (2)"
   ]
  },
  {
   "cell_type": "code",
   "execution_count": 10,
   "metadata": {},
   "outputs": [
    {
     "data": {
      "text/plain": [
       "4×4 Array{Float64,2}:\n",
       "  0.0    0.2    0.1   -0.1 \n",
       "  0.08   0.07   0.02   0.0 \n",
       "  0.2   -0.11  -0.04   0.01\n",
       " -0.02   0.04  -0.03  -0.02"
      ]
     },
     "execution_count": 10,
     "metadata": {},
     "output_type": "execute_result"
    }
   ],
   "source": [
    "A_dis=[10 7.2 8.1 6.9;\n",
    "7.08 5.07 6.02 5;\n",
    "8.2 5.89 9.96 9.01;\n",
    "6.98 5.04 8.97 9.98]\n",
    "δA=A_dis-A"
   ]
  },
  {
   "cell_type": "code",
   "execution_count": 11,
   "metadata": {},
   "outputs": [
    {
     "data": {
      "text/plain": [
       "4-element Array{Float64,1}:\n",
       " 0.007731065030371553\n",
       " 2.3116768552345355  \n",
       " 1.021050697907897   \n",
       " 1.0156674404280672  "
      ]
     },
     "execution_count": 11,
     "metadata": {},
     "output_type": "execute_result"
    }
   ],
   "source": [
    "b=[32;23;33;31]\n",
    "x=A\\b\n",
    "x_dis=A_dis\\b"
   ]
  },
  {
   "cell_type": "code",
   "execution_count": 12,
   "metadata": {},
   "outputs": [
    {
     "data": {
      "text/plain": [
       "4-element Array{Float64,1}:\n",
       " -0.9922689349697061  \n",
       "  1.3116768552346643  \n",
       "  0.021050697907863736\n",
       "  0.01566744042808721 "
      ]
     },
     "execution_count": 12,
     "metadata": {},
     "output_type": "execute_result"
    }
   ],
   "source": [
    "δx=x_dis-x"
   ]
  },
  {
   "cell_type": "markdown",
   "metadata": {},
   "source": [
    "### $||δA||_2,||A||_2,||x||_2$ 计算如下"
   ]
  },
  {
   "cell_type": "code",
   "execution_count": 13,
   "metadata": {},
   "outputs": [
    {
     "data": {
      "text/plain": [
       "(0.3588871688985267, 30.54504869860253, 1.9999999999999811)"
      ]
     },
     "execution_count": 13,
     "metadata": {},
     "output_type": "execute_result"
    }
   ],
   "source": [
    "norm(δA,2),norm(A,2),norm(x,2)"
   ]
  },
  {
   "cell_type": "markdown",
   "metadata": {},
   "source": [
    "### 根据理论估算式（修正后的） $$\\frac{||δx||}{||x||}\\leq \\left|\\frac{cond(A)\\frac{||δA||}{||A||}}{1-cond(A)\\frac{||δA||}{||A||}}\\right|$$"
   ]
  },
  {
   "cell_type": "markdown",
   "metadata": {},
   "source": [
    "### 得到左端$\\frac{||δx||}{||x||}$的上界为下值"
   ]
  },
  {
   "cell_type": "code",
   "execution_count": 14,
   "metadata": {},
   "outputs": [
    {
     "data": {
      "text/plain": [
       "1.0293587346664632"
      ]
     },
     "execution_count": 14,
     "metadata": {},
     "output_type": "execute_result"
    }
   ],
   "source": [
    "abs(cond(A)*norm(δA,2)/norm(A,2)\n",
    "    /(1-cond(A)*norm(δA,2)/norm(A,2)))"
   ]
  },
  {
   "cell_type": "markdown",
   "metadata": {},
   "source": [
    "### $||δx||_2$ 实际计算如下"
   ]
  },
  {
   "cell_type": "code",
   "execution_count": 15,
   "metadata": {},
   "outputs": [
    {
     "data": {
      "text/plain": [
       "1.6449262635255688"
      ]
     },
     "execution_count": 15,
     "metadata": {},
     "output_type": "execute_result"
    }
   ],
   "source": [
    "sqrt(δx'δx)"
   ]
  },
  {
   "cell_type": "markdown",
   "metadata": {},
   "source": [
    "### 得 $\\frac{||δx||}{||x||}$ 实际值如下"
   ]
  },
  {
   "cell_type": "code",
   "execution_count": 16,
   "metadata": {},
   "outputs": [
    {
     "data": {
      "text/plain": [
       "0.8224631317627922"
      ]
     },
     "execution_count": 16,
     "metadata": {},
     "output_type": "execute_result"
    }
   ],
   "source": [
    "sqrt(δx'δx)/norm(x,2)"
   ]
  },
  {
   "cell_type": "markdown",
   "metadata": {},
   "source": [
    "### 符合理论预期"
   ]
  },
  {
   "cell_type": "markdown",
   "metadata": {},
   "source": [
    "### (3) rand产成均匀分布在[0,1] 之间的扰动，因此我们采用如下的方式生成扰动，确保各元素绝对值不越界。"
   ]
  },
  {
   "cell_type": "code",
   "execution_count": 17,
   "metadata": {},
   "outputs": [
    {
     "data": {
      "text/plain": [
       "4×4 Array{Float64,2}:\n",
       " 3.30717e-5  1.13308e-5  4.70317e-6  1.5767e-5 \n",
       " 2.77079e-5  3.78465e-6  1.92904e-5  3.30343e-5\n",
       " 1.66354e-6  6.0902e-6   3.51932e-5  4.55776e-5\n",
       " 4.88181e-5  8.03909e-6  6.58047e-6  4.19648e-5"
      ]
     },
     "execution_count": 17,
     "metadata": {},
     "output_type": "execute_result"
    }
   ],
   "source": [
    "#δA_new=\n",
    "δA_new=reshape(rand(length(A)),4,4)*0.5*1e-4"
   ]
  },
  {
   "cell_type": "markdown",
   "metadata": {},
   "source": [
    "### 根据理论估算式"
   ]
  },
  {
   "cell_type": "markdown",
   "metadata": {},
   "source": [
    "### 得到左端$\\frac{||δx_{new}||}{||x||}$的上界为下值"
   ]
  },
  {
   "cell_type": "code",
   "execution_count": 18,
   "metadata": {},
   "outputs": [
    {
     "data": {
      "text/plain": [
       "0.01051573545329872"
      ]
     },
     "execution_count": 18,
     "metadata": {},
     "output_type": "execute_result"
    }
   ],
   "source": [
    "abs(cond(A)*norm(δA_new,2)/norm(A,2)\n",
    "    /(1-cond(A)*norm(δA_new,2)/norm(A,2)))"
   ]
  },
  {
   "cell_type": "code",
   "execution_count": 19,
   "metadata": {},
   "outputs": [
    {
     "data": {
      "text/plain": [
       "4-element Array{Float64,1}:\n",
       "  0.0015630769356393959 \n",
       " -0.0025909339575642676 \n",
       "  0.0006502920947653035 \n",
       " -0.00039449432620153324"
      ]
     },
     "execution_count": 19,
     "metadata": {},
     "output_type": "execute_result"
    }
   ],
   "source": [
    "A_new=A+δA_new\n",
    "δx_new=A_new\\b-x"
   ]
  },
  {
   "cell_type": "markdown",
   "metadata": {},
   "source": [
    "### $||δx_{new}||_2$ 实际计算如下"
   ]
  },
  {
   "cell_type": "code",
   "execution_count": 20,
   "metadata": {},
   "outputs": [
    {
     "data": {
      "text/plain": [
       "0.003120040682604464"
      ]
     },
     "execution_count": 20,
     "metadata": {},
     "output_type": "execute_result"
    }
   ],
   "source": [
    "sqrt(δx_new'δx_new)"
   ]
  },
  {
   "cell_type": "markdown",
   "metadata": {},
   "source": [
    "### 得 $\\frac{||δx_{new}||}{||x||}$ 实际值如下"
   ]
  },
  {
   "cell_type": "code",
   "execution_count": 21,
   "metadata": {},
   "outputs": [
    {
     "data": {
      "text/plain": [
       "0.0015600203413022467"
      ]
     },
     "execution_count": 21,
     "metadata": {},
     "output_type": "execute_result"
    }
   ],
   "source": [
    "sqrt(δx_new'δx_new)/norm(x,2)"
   ]
  },
  {
   "cell_type": "markdown",
   "metadata": {},
   "source": [
    "### 符合理论预期"
   ]
  },
  {
   "cell_type": "code",
   "execution_count": null,
   "metadata": {},
   "outputs": [],
   "source": []
  }
 ],
 "metadata": {
  "kernelspec": {
   "display_name": "Julia 1.1.1",
   "language": "julia",
   "name": "julia-1.1"
  },
  "language_info": {
   "file_extension": ".jl",
   "mimetype": "application/julia",
   "name": "julia",
   "version": "1.1.1"
  }
 },
 "nbformat": 4,
 "nbformat_minor": 2
}
