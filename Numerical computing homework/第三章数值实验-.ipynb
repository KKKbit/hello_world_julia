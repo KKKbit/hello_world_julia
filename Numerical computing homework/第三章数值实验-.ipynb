{
 "cells": [
  {
   "cell_type": "markdown",
   "metadata": {},
   "source": [
    "## 1. 试分别用 (1) Jacobi 迭代 (2) Gauss-Seidel 迭代法 和（3）共轭梯度法, 解线性方程组\n",
    "$$\\begin{bmatrix}\n",
    " 10 & 1 & 2 & 3 & 4 \\\\\n",
    " 1 &9 &-1& 2&-3\\\\\n",
    " 2&-1 &7&3 & -5\\\\\n",
    " 3 &2 &3& 12&-1\\\\\n",
    " 4 &-3 &-5& -1&15\n",
    "\\end{bmatrix}\\begin{bmatrix}\n",
    "x_1\\\\\n",
    "x_2\\\\\n",
    "x_3\\\\\n",
    "x_4\\\\\n",
    "x_5\n",
    "\\end{bmatrix}=\\begin{bmatrix}\n",
    "12\\\\\n",
    "-27\\\\\n",
    "14\\\\\n",
    "-17\\\\\n",
    "12\n",
    "\\end{bmatrix}\n",
    "$$\n",
    "\n",
    "## 迭代初始向量为$x^{(0)}=\\begin{bmatrix}0&0&0&0&0\\end{bmatrix}^T$"
   ]
  },
  {
   "cell_type": "markdown",
   "metadata": {},
   "source": [
    "## 解：三对角矩阵使用追赶法,进行LU分解，再求解方程"
   ]
  },
  {
   "cell_type": "markdown",
   "metadata": {},
   "source": [
    "### Code"
   ]
  },
  {
   "cell_type": "code",
   "execution_count": 1,
   "metadata": {},
   "outputs": [
    {
     "data": {
      "text/plain": [
       "100"
      ]
     },
     "execution_count": 1,
     "metadata": {},
     "output_type": "execute_result"
    }
   ],
   "source": [
    "using LinearAlgebra\n",
    "A=[10 1 2 3 4;\n",
    " 1 9 -1 2 -3;\n",
    " 2 -1 7 3 -5;\n",
    " 3 2 3 12 -1;\n",
    " 4 -3 -5 -1 15] \n",
    "b=[12;-27;14;-17;12]\n",
    "x0=[0;0;0;0;0]\n",
    "ϵ=0.5*1e-3\n",
    "iter_num=100"
   ]
  },
  {
   "cell_type": "markdown",
   "metadata": {},
   "source": [
    "## 将迭代式写成矩阵形式 $x^{k+1}=Mx^{k}+g$\n",
    "## 为叙述方便，将A按下三角L，对角D，上三角U划分，记A=D-L-U\n",
    "### (1)对于Jacobbi 迭代法，$M=I-D^{-1}A,g=D^{-1}b$"
   ]
  },
  {
   "cell_type": "code",
   "execution_count": 2,
   "metadata": {},
   "outputs": [
    {
     "data": {
      "text/plain": [
       "Jacobi (generic function with 1 method)"
      ]
     },
     "execution_count": 2,
     "metadata": {},
     "output_type": "execute_result"
    }
   ],
   "source": [
    "function Jacobi(A,b,x0,ϵ,iter_num)\n",
    "    D=diagm(0=>diag(A,0)*1.0)\n",
    "    E=Matrix{Float64}(I,size(A))#cannot assign variable LinearAlgebra.I\n",
    "    M=I-D^(-1)*A\n",
    "    g=D^(-1)*b\n",
    "    xn=copy(x0)\n",
    "    for i=1:iter_num\n",
    "        xn_plus = M*xn+g\n",
    "        if abs(norm(xn_plus-xn)<ϵ)\n",
    "            println(\"Jacobbi iter success\")\n",
    "            return xn_plus,norm(xn_plus-xn),i\n",
    "        else\n",
    "            xn=xn_plus\n",
    "        end\n",
    "    end\n",
    "    \n",
    "    if abs(norm(xn_plus-xn)<ϵ)\n",
    "        println(\"Jacobbi iter success\")\n",
    "    else\n",
    "        println(\"Jacobbi iter failed\")\n",
    "    end\n",
    "    return xn_plus,norm(xn_plus-xn),iter_num\n",
    "end"
   ]
  },
  {
   "cell_type": "markdown",
   "metadata": {},
   "source": [
    "### 根据给定条件，解得方程组的解如下"
   ]
  },
  {
   "cell_type": "code",
   "execution_count": 3,
   "metadata": {},
   "outputs": [
    {
     "name": "stdout",
     "output_type": "stream",
     "text": [
      "Jacobbi iter success\n"
     ]
    },
    {
     "data": {
      "text/plain": [
       "([1.00086, -2.00079, 2.99855, -1.99977, 0.998963], 0.0004505829050280891, 34)"
      ]
     },
     "execution_count": 3,
     "metadata": {},
     "output_type": "execute_result"
    }
   ],
   "source": [
    "xn,error,iters=Jacobi(A,b,x0,ϵ,iter_num)"
   ]
  },
  {
   "cell_type": "code",
   "execution_count": 4,
   "metadata": {},
   "outputs": [
    {
     "data": {
      "text/plain": [
       "5-element Array{Float64,1}:\n",
       "  1.0008644520246608\n",
       " -2.00079168104775  \n",
       "  2.998548689104864 \n",
       " -1.99976665890548  \n",
       "  0.9989626473538343"
      ]
     },
     "execution_count": 4,
     "metadata": {},
     "output_type": "execute_result"
    }
   ],
   "source": [
    "xn"
   ]
  },
  {
   "cell_type": "markdown",
   "metadata": {},
   "source": [
    "### (2)对于G-S迭代法，$x^{k+1}=D^{-1}Lx^{k+1}+D^{-1}Ux^{k}+D^{-1}b$，所以\n",
    "### 有，$x^{k+1}=(I-D^{-1}L)^{-1}D^{-1}Ux^{k}+(I-D^{-1}L)^{-1}D^{-1}b$，即\n",
    "### $x^{k+1}=(D-L)^{-1}Ux^{k}+(D-L)^{-1}b=Mx^k+g$"
   ]
  },
  {
   "cell_type": "code",
   "execution_count": 5,
   "metadata": {},
   "outputs": [
    {
     "data": {
      "text/plain": [
       "GS (generic function with 1 method)"
      ]
     },
     "execution_count": 5,
     "metadata": {},
     "output_type": "execute_result"
    }
   ],
   "source": [
    "function GS(A,b,x0,ϵ,iter_num)\n",
    "    D=diagm(0=>diag(A,0)*1.0)\n",
    "    L=LowerTriangular(A)*(-1.0)\n",
    "    U=UpperTriangular(A)*(-1.0)\n",
    "    M=(D-L)^(-1)*U\n",
    "    g=(D-L)^(-1)*b\n",
    "    xn=copy(x0)\n",
    "    for i=1:iter_num\n",
    "        xn_plus = M*xn+g\n",
    "        if abs(norm(xn_plus-xn)<ϵ)\n",
    "            println(\"G-S iter success\")\n",
    "            return xn_plus,norm(xn_plus-xn),i\n",
    "        else\n",
    "            xn=xn_plus\n",
    "        end\n",
    "    end\n",
    "    \n",
    "    if abs(norm(xn_plus-xn)<ϵ)\n",
    "        println(\"G-S iter success\")\n",
    "    else\n",
    "        println(\"G-S iter failed\")\n",
    "    end\n",
    "    return xn_plus,norm(xn_plus-xn),iter_num\n",
    "end"
   ]
  },
  {
   "cell_type": "code",
   "execution_count": 6,
   "metadata": {},
   "outputs": [],
   "source": [
    "#?lower\n",
    "#?upper"
   ]
  },
  {
   "cell_type": "markdown",
   "metadata": {},
   "source": [
    "### 根据给定条件，解得方程组的解如下"
   ]
  },
  {
   "cell_type": "code",
   "execution_count": 7,
   "metadata": {},
   "outputs": [
    {
     "name": "stdout",
     "output_type": "stream",
     "text": [
      "G-S iter success\n"
     ]
    },
    {
     "data": {
      "text/plain": [
       "([0.40232, -0.924464, 0.713279, -0.507254, 0.237266], 0.00030360437006398945, 14)"
      ]
     },
     "execution_count": 7,
     "metadata": {},
     "output_type": "execute_result"
    }
   ],
   "source": [
    "xn,error,iters=GS(A,b,x0,ϵ,iter_num)"
   ]
  },
  {
   "cell_type": "code",
   "execution_count": 8,
   "metadata": {},
   "outputs": [
    {
     "data": {
      "text/plain": [
       "5-element Array{Float64,1}:\n",
       "  0.40231976771448696\n",
       " -0.9244644888196436 \n",
       "  0.7132793128226385 \n",
       " -0.5072535379408231 \n",
       "  0.23726587972501256"
      ]
     },
     "execution_count": 8,
     "metadata": {},
     "output_type": "execute_result"
    }
   ],
   "source": [
    "xn"
   ]
  },
  {
   "cell_type": "markdown",
   "metadata": {},
   "source": [
    "### (3)共轭梯度法将求解变成求优化问题的极值，沿着关于A共轭的 $d$ 进行搜索，而非基于计算误差得到的负梯度$r$。具体原理此处不表。"
   ]
  },
  {
   "cell_type": "code",
   "execution_count": 9,
   "metadata": {},
   "outputs": [
    {
     "data": {
      "text/plain": [
       "ConjGrad (generic function with 1 method)"
      ]
     },
     "execution_count": 9,
     "metadata": {},
     "output_type": "execute_result"
    }
   ],
   "source": [
    "#求解\n",
    "function ConjGrad(A,b,x0,ϵ,iter_num)\n",
    "    dn=b-A*x0\n",
    "    rn=copy(dn)\n",
    "    λn = rn'dn/(dn'A*dn)\n",
    "    xn=x0+λn*dn\n",
    "    \n",
    "    for i=1:iter_num\n",
    "        rn = b-A*xn\n",
    "        if abs(norm(rn)<ϵ)\n",
    "            println(\"Conjugate Gradient iter success\")\n",
    "            return xn,norm(rn),i\n",
    "        else\n",
    "            β=-rn'A*dn/(dn'A*dn)\n",
    "            dn=rn+ β*dn\n",
    "            λn = rn'dn/(dn'A*dn)\n",
    "            xn=xn+λn*dn\n",
    "        end\n",
    "    end\n",
    "    \n",
    "    if abs(norm(rn)<ϵ)\n",
    "        println(\"Conjugate Gradient iter success\")\n",
    "    else\n",
    "        println(\"Conjugate Gradient iter failed\")\n",
    "    end\n",
    "    return xn,norm(rn),iter_num\n",
    "end"
   ]
  },
  {
   "cell_type": "markdown",
   "metadata": {},
   "source": [
    "### 根据给定条件，解得方程组的解如下"
   ]
  },
  {
   "cell_type": "code",
   "execution_count": 10,
   "metadata": {},
   "outputs": [
    {
     "name": "stdout",
     "output_type": "stream",
     "text": [
      "Conjugate Gradient iter success\n"
     ]
    },
    {
     "data": {
      "text/plain": [
       "([1.0, -2.0, 3.0, -2.0, 1.0], 1.5280799322856756e-14, 5)"
      ]
     },
     "execution_count": 10,
     "metadata": {},
     "output_type": "execute_result"
    }
   ],
   "source": [
    "xn,error,iters=ConjGrad(A,b,x0,ϵ,iter_num)"
   ]
  },
  {
   "cell_type": "code",
   "execution_count": 11,
   "metadata": {},
   "outputs": [
    {
     "data": {
      "text/plain": [
       "5-element Array{Float64,1}:\n",
       "  1.0000000000000004\n",
       " -2.0               \n",
       "  3.0000000000000004\n",
       " -1.9999999999999996\n",
       "  0.9999999999999997"
      ]
     },
     "execution_count": 11,
     "metadata": {},
     "output_type": "execute_result"
    }
   ],
   "source": [
    "xn"
   ]
  }
 ],
 "metadata": {
  "kernelspec": {
   "display_name": "Julia 1.1.1",
   "language": "julia",
   "name": "julia-1.1"
  },
  "language_info": {
   "file_extension": ".jl",
   "mimetype": "application/julia",
   "name": "julia",
   "version": "1.1.1"
  }
 },
 "nbformat": 4,
 "nbformat_minor": 2
}
